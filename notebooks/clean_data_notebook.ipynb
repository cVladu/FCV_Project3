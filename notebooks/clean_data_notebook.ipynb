{
 "cells": [
  {
   "cell_type": "code",
   "execution_count": 1,
   "outputs": [],
   "source": [
    "import pandas as pd"
   ],
   "metadata": {
    "collapsed": false,
    "pycharm": {
     "name": "#%%\n"
    }
   }
  },
  {
   "cell_type": "code",
   "execution_count": 3,
   "outputs": [],
   "source": [
    "df = pd.concat((pd.read_csv('../data/train.csv'), pd.read_csv('../data/test.csv')))"
   ],
   "metadata": {
    "collapsed": false,
    "pycharm": {
     "name": "#%%\n"
    }
   }
  },
  {
   "cell_type": "code",
   "execution_count": 5,
   "outputs": [
    {
     "data": {
      "text/plain": "   writer  page_id language  same_text  tortuosityHist10[0]  \\\n0       1        1   Arabic          0              1.00000   \n1       1        2   Arabic          1              1.00000   \n2       1        3  English          0              1.00000   \n3       1        4  English          1              1.00000   \n4       2        1   Arabic          0              1.00000   \n5       2        2   Arabic          1              1.00000   \n6       2        3  English          0              1.00000   \n7       2        4  English          1              1.00000   \n8       3        1   Arabic          0              1.00000   \n9       3        2   Arabic          1              0.92875   \n\n   tortuosityHist10[1]  tortuosityHist10[2]  tortuosityHist10[3]  \\\n0             0.000000             0.000000                  0.0   \n1             0.000000             0.000000                  0.0   \n2             0.000000             0.000000                  0.0   \n3             0.000000             0.000000                  0.0   \n4             0.000000             0.000000                  0.0   \n5             0.000000             0.000000                  0.0   \n6             0.000000             0.000000                  0.0   \n7             0.000000             0.000000                  0.0   \n8             0.000000             0.000000                  0.0   \n9             0.004071             0.001876                  0.0   \n\n   tortuosityHist10[4]  tortuosityHist10[5]  ...  \\\n0             0.000000             0.000000  ...   \n1             0.000000             0.000000  ...   \n2             0.000000             0.000000  ...   \n3             0.000000             0.000000  ...   \n4             0.000000             0.000000  ...   \n5             0.000000             0.000000  ...   \n6             0.000000             0.000000  ...   \n7             0.000000             0.000000  ...   \n8             0.000000             0.000000  ...   \n9             0.018031             0.025427  ...   \n\n   directions_hist1a2a3a4a5a6a7a8a9a10_220[210]  \\\n0                                      0.002457   \n1                                      0.002498   \n2                                      0.002090   \n3                                      0.002435   \n4                                      0.002465   \n5                                      0.002535   \n6                                      0.002887   \n7                                      0.002945   \n8                                      0.002245   \n9                                      0.002179   \n\n   directions_hist1a2a3a4a5a6a7a8a9a10_220[211]  \\\n0                                      0.002633   \n1                                      0.002641   \n2                                      0.002440   \n3                                      0.002823   \n4                                      0.002724   \n5                                      0.002808   \n6                                      0.003271   \n7                                      0.003295   \n8                                      0.002325   \n9                                      0.002267   \n\n   directions_hist1a2a3a4a5a6a7a8a9a10_220[212]  \\\n0                                      0.002698   \n1                                      0.002836   \n2                                      0.002831   \n3                                      0.003117   \n4                                      0.003079   \n5                                      0.002942   \n6                                      0.003569   \n7                                      0.003569   \n8                                      0.002383   \n9                                      0.002385   \n\n   directions_hist1a2a3a4a5a6a7a8a9a10_220[213]  \\\n0                                      0.002929   \n1                                      0.002999   \n2                                      0.003078   \n3                                      0.003441   \n4                                      0.003305   \n5                                      0.003151   \n6                                      0.003793   \n7                                      0.003846   \n8                                      0.002515   \n9                                      0.002550   \n\n   directions_hist1a2a3a4a5a6a7a8a9a10_220[214]  \\\n0                                      0.003014   \n1                                      0.003246   \n2                                      0.003438   \n3                                      0.003788   \n4                                      0.003425   \n5                                      0.003247   \n6                                      0.004049   \n7                                      0.004083   \n8                                      0.002725   \n9                                      0.002723   \n\n   directions_hist1a2a3a4a5a6a7a8a9a10_220[215]  \\\n0                                      0.003225   \n1                                      0.003456   \n2                                      0.003732   \n3                                      0.004056   \n4                                      0.003403   \n5                                      0.003246   \n6                                      0.004214   \n7                                      0.004329   \n8                                      0.003046   \n9                                      0.002836   \n\n   directions_hist1a2a3a4a5a6a7a8a9a10_220[216]  \\\n0                                      0.003572   \n1                                      0.003709   \n2                                      0.004100   \n3                                      0.004285   \n4                                      0.003450   \n5                                      0.003433   \n6                                      0.004339   \n7                                      0.004566   \n8                                      0.003304   \n9                                      0.003049   \n\n   directions_hist1a2a3a4a5a6a7a8a9a10_220[217]  \\\n0                                      0.003957   \n1                                      0.003994   \n2                                      0.004329   \n3                                      0.004527   \n4                                      0.003626   \n5                                      0.003516   \n6                                      0.004598   \n7                                      0.004850   \n8                                      0.003629   \n9                                      0.003373   \n\n   directions_hist1a2a3a4a5a6a7a8a9a10_220[218]  \\\n0                                      0.004232   \n1                                      0.004308   \n2                                      0.004687   \n3                                      0.004843   \n4                                      0.003977   \n5                                      0.003787   \n6                                      0.004874   \n7                                      0.005092   \n8                                      0.004037   \n9                                      0.003757   \n\n   directions_hist1a2a3a4a5a6a7a8a9a10_220[219]  \n0                                      0.004804  \n1                                      0.004706  \n2                                      0.004879  \n3                                      0.005085  \n4                                      0.004547  \n5                                      0.004377  \n6                                      0.005211  \n7                                      0.005397  \n8                                      0.004564  \n9                                      0.004354  \n\n[10 rows x 7070 columns]",
      "text/html": "<div>\n<style scoped>\n    .dataframe tbody tr th:only-of-type {\n        vertical-align: middle;\n    }\n\n    .dataframe tbody tr th {\n        vertical-align: top;\n    }\n\n    .dataframe thead th {\n        text-align: right;\n    }\n</style>\n<table border=\"1\" class=\"dataframe\">\n  <thead>\n    <tr style=\"text-align: right;\">\n      <th></th>\n      <th>writer</th>\n      <th>page_id</th>\n      <th>language</th>\n      <th>same_text</th>\n      <th>tortuosityHist10[0]</th>\n      <th>tortuosityHist10[1]</th>\n      <th>tortuosityHist10[2]</th>\n      <th>tortuosityHist10[3]</th>\n      <th>tortuosityHist10[4]</th>\n      <th>tortuosityHist10[5]</th>\n      <th>...</th>\n      <th>directions_hist1a2a3a4a5a6a7a8a9a10_220[210]</th>\n      <th>directions_hist1a2a3a4a5a6a7a8a9a10_220[211]</th>\n      <th>directions_hist1a2a3a4a5a6a7a8a9a10_220[212]</th>\n      <th>directions_hist1a2a3a4a5a6a7a8a9a10_220[213]</th>\n      <th>directions_hist1a2a3a4a5a6a7a8a9a10_220[214]</th>\n      <th>directions_hist1a2a3a4a5a6a7a8a9a10_220[215]</th>\n      <th>directions_hist1a2a3a4a5a6a7a8a9a10_220[216]</th>\n      <th>directions_hist1a2a3a4a5a6a7a8a9a10_220[217]</th>\n      <th>directions_hist1a2a3a4a5a6a7a8a9a10_220[218]</th>\n      <th>directions_hist1a2a3a4a5a6a7a8a9a10_220[219]</th>\n    </tr>\n  </thead>\n  <tbody>\n    <tr>\n      <th>0</th>\n      <td>1</td>\n      <td>1</td>\n      <td>Arabic</td>\n      <td>0</td>\n      <td>1.00000</td>\n      <td>0.000000</td>\n      <td>0.000000</td>\n      <td>0.0</td>\n      <td>0.000000</td>\n      <td>0.000000</td>\n      <td>...</td>\n      <td>0.002457</td>\n      <td>0.002633</td>\n      <td>0.002698</td>\n      <td>0.002929</td>\n      <td>0.003014</td>\n      <td>0.003225</td>\n      <td>0.003572</td>\n      <td>0.003957</td>\n      <td>0.004232</td>\n      <td>0.004804</td>\n    </tr>\n    <tr>\n      <th>1</th>\n      <td>1</td>\n      <td>2</td>\n      <td>Arabic</td>\n      <td>1</td>\n      <td>1.00000</td>\n      <td>0.000000</td>\n      <td>0.000000</td>\n      <td>0.0</td>\n      <td>0.000000</td>\n      <td>0.000000</td>\n      <td>...</td>\n      <td>0.002498</td>\n      <td>0.002641</td>\n      <td>0.002836</td>\n      <td>0.002999</td>\n      <td>0.003246</td>\n      <td>0.003456</td>\n      <td>0.003709</td>\n      <td>0.003994</td>\n      <td>0.004308</td>\n      <td>0.004706</td>\n    </tr>\n    <tr>\n      <th>2</th>\n      <td>1</td>\n      <td>3</td>\n      <td>English</td>\n      <td>0</td>\n      <td>1.00000</td>\n      <td>0.000000</td>\n      <td>0.000000</td>\n      <td>0.0</td>\n      <td>0.000000</td>\n      <td>0.000000</td>\n      <td>...</td>\n      <td>0.002090</td>\n      <td>0.002440</td>\n      <td>0.002831</td>\n      <td>0.003078</td>\n      <td>0.003438</td>\n      <td>0.003732</td>\n      <td>0.004100</td>\n      <td>0.004329</td>\n      <td>0.004687</td>\n      <td>0.004879</td>\n    </tr>\n    <tr>\n      <th>3</th>\n      <td>1</td>\n      <td>4</td>\n      <td>English</td>\n      <td>1</td>\n      <td>1.00000</td>\n      <td>0.000000</td>\n      <td>0.000000</td>\n      <td>0.0</td>\n      <td>0.000000</td>\n      <td>0.000000</td>\n      <td>...</td>\n      <td>0.002435</td>\n      <td>0.002823</td>\n      <td>0.003117</td>\n      <td>0.003441</td>\n      <td>0.003788</td>\n      <td>0.004056</td>\n      <td>0.004285</td>\n      <td>0.004527</td>\n      <td>0.004843</td>\n      <td>0.005085</td>\n    </tr>\n    <tr>\n      <th>4</th>\n      <td>2</td>\n      <td>1</td>\n      <td>Arabic</td>\n      <td>0</td>\n      <td>1.00000</td>\n      <td>0.000000</td>\n      <td>0.000000</td>\n      <td>0.0</td>\n      <td>0.000000</td>\n      <td>0.000000</td>\n      <td>...</td>\n      <td>0.002465</td>\n      <td>0.002724</td>\n      <td>0.003079</td>\n      <td>0.003305</td>\n      <td>0.003425</td>\n      <td>0.003403</td>\n      <td>0.003450</td>\n      <td>0.003626</td>\n      <td>0.003977</td>\n      <td>0.004547</td>\n    </tr>\n    <tr>\n      <th>5</th>\n      <td>2</td>\n      <td>2</td>\n      <td>Arabic</td>\n      <td>1</td>\n      <td>1.00000</td>\n      <td>0.000000</td>\n      <td>0.000000</td>\n      <td>0.0</td>\n      <td>0.000000</td>\n      <td>0.000000</td>\n      <td>...</td>\n      <td>0.002535</td>\n      <td>0.002808</td>\n      <td>0.002942</td>\n      <td>0.003151</td>\n      <td>0.003247</td>\n      <td>0.003246</td>\n      <td>0.003433</td>\n      <td>0.003516</td>\n      <td>0.003787</td>\n      <td>0.004377</td>\n    </tr>\n    <tr>\n      <th>6</th>\n      <td>2</td>\n      <td>3</td>\n      <td>English</td>\n      <td>0</td>\n      <td>1.00000</td>\n      <td>0.000000</td>\n      <td>0.000000</td>\n      <td>0.0</td>\n      <td>0.000000</td>\n      <td>0.000000</td>\n      <td>...</td>\n      <td>0.002887</td>\n      <td>0.003271</td>\n      <td>0.003569</td>\n      <td>0.003793</td>\n      <td>0.004049</td>\n      <td>0.004214</td>\n      <td>0.004339</td>\n      <td>0.004598</td>\n      <td>0.004874</td>\n      <td>0.005211</td>\n    </tr>\n    <tr>\n      <th>7</th>\n      <td>2</td>\n      <td>4</td>\n      <td>English</td>\n      <td>1</td>\n      <td>1.00000</td>\n      <td>0.000000</td>\n      <td>0.000000</td>\n      <td>0.0</td>\n      <td>0.000000</td>\n      <td>0.000000</td>\n      <td>...</td>\n      <td>0.002945</td>\n      <td>0.003295</td>\n      <td>0.003569</td>\n      <td>0.003846</td>\n      <td>0.004083</td>\n      <td>0.004329</td>\n      <td>0.004566</td>\n      <td>0.004850</td>\n      <td>0.005092</td>\n      <td>0.005397</td>\n    </tr>\n    <tr>\n      <th>8</th>\n      <td>3</td>\n      <td>1</td>\n      <td>Arabic</td>\n      <td>0</td>\n      <td>1.00000</td>\n      <td>0.000000</td>\n      <td>0.000000</td>\n      <td>0.0</td>\n      <td>0.000000</td>\n      <td>0.000000</td>\n      <td>...</td>\n      <td>0.002245</td>\n      <td>0.002325</td>\n      <td>0.002383</td>\n      <td>0.002515</td>\n      <td>0.002725</td>\n      <td>0.003046</td>\n      <td>0.003304</td>\n      <td>0.003629</td>\n      <td>0.004037</td>\n      <td>0.004564</td>\n    </tr>\n    <tr>\n      <th>9</th>\n      <td>3</td>\n      <td>2</td>\n      <td>Arabic</td>\n      <td>1</td>\n      <td>0.92875</td>\n      <td>0.004071</td>\n      <td>0.001876</td>\n      <td>0.0</td>\n      <td>0.018031</td>\n      <td>0.025427</td>\n      <td>...</td>\n      <td>0.002179</td>\n      <td>0.002267</td>\n      <td>0.002385</td>\n      <td>0.002550</td>\n      <td>0.002723</td>\n      <td>0.002836</td>\n      <td>0.003049</td>\n      <td>0.003373</td>\n      <td>0.003757</td>\n      <td>0.004354</td>\n    </tr>\n  </tbody>\n</table>\n<p>10 rows × 7070 columns</p>\n</div>"
     },
     "execution_count": 5,
     "metadata": {},
     "output_type": "execute_result"
    }
   ],
   "source": [
    "df.head()"
   ],
   "metadata": {
    "collapsed": false,
    "pycharm": {
     "name": "#%%\n"
    }
   }
  },
  {
   "cell_type": "code",
   "execution_count": 12,
   "outputs": [],
   "source": [
    "df_Arabic = df[df['language'] == 'Arabic'][['writer', 'page_id']]"
   ],
   "metadata": {
    "collapsed": false,
    "pycharm": {
     "name": "#%%\n"
    }
   }
  },
  {
   "cell_type": "code",
   "execution_count": 26,
   "outputs": [],
   "source": [
    "import os\n",
    "for x in df_Arabic.values:\n",
    "    os.remove(\"../data/{:>04}_{}.jpg\".format(x[0], x[1]))\n",
    "\n"
   ],
   "metadata": {
    "collapsed": false,
    "pycharm": {
     "name": "#%%\n"
    }
   }
  }
 ],
 "metadata": {
  "kernelspec": {
   "name": "pycharm-52beb597",
   "language": "python",
   "display_name": "PyCharm (FCV_Project3)"
  },
  "language_info": {
   "codemirror_mode": {
    "name": "ipython",
    "version": 3
   },
   "file_extension": ".py",
   "mimetype": "text/x-python",
   "name": "python",
   "nbconvert_exporter": "python",
   "pygments_lexer": "ipython3",
   "version": "3.8.5"
  }
 },
 "nbformat": 4,
 "nbformat_minor": 1
}